{
 "cells": [
  {
   "cell_type": "code",
   "execution_count": 1,
   "id": "256cf87e-6364-48dc-a33f-c025e187abc4",
   "metadata": {
    "tags": []
   },
   "outputs": [],
   "source": [
    "import pandas as pd\n",
    "import seaborn as sns\n",
    "import matplotlib.pyplot as plt \n",
    "import scipy.stats"
   ]
  },
  {
   "cell_type": "markdown",
   "id": "147a6640-c00b-4758-aa86-53b08aed1500",
   "metadata": {},
   "source": [
    "#IMPORTANT: Please read all comments "
   ]
  },
  {
   "cell_type": "code",
   "execution_count": 2,
   "id": "e60c5586-abfc-4717-8ba1-45e2def87e11",
   "metadata": {
    "tags": []
   },
   "outputs": [],
   "source": [
    "url = 'https://cf-courses-data.s3.us.cloud-object-storage.appdomain.cloud/IBMDeveloperSkillsNetwork-ST0151EN-SkillsNetwork/labs/boston_housing.csv'\n",
    "df = pd.read_csv(url)"
   ]
  },
  {
   "cell_type": "code",
   "execution_count": 3,
   "id": "32efe4ad-713d-42c5-b1c3-28315a412061",
   "metadata": {
    "tags": []
   },
   "outputs": [
    {
     "data": {
      "text/html": [
       "<div>\n",
       "<style scoped>\n",
       "    .dataframe tbody tr th:only-of-type {\n",
       "        vertical-align: middle;\n",
       "    }\n",
       "\n",
       "    .dataframe tbody tr th {\n",
       "        vertical-align: top;\n",
       "    }\n",
       "\n",
       "    .dataframe thead th {\n",
       "        text-align: right;\n",
       "    }\n",
       "</style>\n",
       "<table border=\"1\" class=\"dataframe\">\n",
       "  <thead>\n",
       "    <tr style=\"text-align: right;\">\n",
       "      <th></th>\n",
       "      <th>Unnamed: 0</th>\n",
       "      <th>CRIM</th>\n",
       "      <th>ZN</th>\n",
       "      <th>INDUS</th>\n",
       "      <th>CHAS</th>\n",
       "      <th>NOX</th>\n",
       "      <th>RM</th>\n",
       "      <th>AGE</th>\n",
       "      <th>DIS</th>\n",
       "      <th>RAD</th>\n",
       "      <th>TAX</th>\n",
       "      <th>PTRATIO</th>\n",
       "      <th>LSTAT</th>\n",
       "      <th>MEDV</th>\n",
       "    </tr>\n",
       "  </thead>\n",
       "  <tbody>\n",
       "    <tr>\n",
       "      <th>0</th>\n",
       "      <td>0</td>\n",
       "      <td>0.00632</td>\n",
       "      <td>18.0</td>\n",
       "      <td>2.31</td>\n",
       "      <td>0.0</td>\n",
       "      <td>0.538</td>\n",
       "      <td>6.575</td>\n",
       "      <td>65.2</td>\n",
       "      <td>4.0900</td>\n",
       "      <td>1.0</td>\n",
       "      <td>296.0</td>\n",
       "      <td>15.3</td>\n",
       "      <td>4.98</td>\n",
       "      <td>24.0</td>\n",
       "    </tr>\n",
       "    <tr>\n",
       "      <th>1</th>\n",
       "      <td>1</td>\n",
       "      <td>0.02731</td>\n",
       "      <td>0.0</td>\n",
       "      <td>7.07</td>\n",
       "      <td>0.0</td>\n",
       "      <td>0.469</td>\n",
       "      <td>6.421</td>\n",
       "      <td>78.9</td>\n",
       "      <td>4.9671</td>\n",
       "      <td>2.0</td>\n",
       "      <td>242.0</td>\n",
       "      <td>17.8</td>\n",
       "      <td>9.14</td>\n",
       "      <td>21.6</td>\n",
       "    </tr>\n",
       "    <tr>\n",
       "      <th>2</th>\n",
       "      <td>2</td>\n",
       "      <td>0.02729</td>\n",
       "      <td>0.0</td>\n",
       "      <td>7.07</td>\n",
       "      <td>0.0</td>\n",
       "      <td>0.469</td>\n",
       "      <td>7.185</td>\n",
       "      <td>61.1</td>\n",
       "      <td>4.9671</td>\n",
       "      <td>2.0</td>\n",
       "      <td>242.0</td>\n",
       "      <td>17.8</td>\n",
       "      <td>4.03</td>\n",
       "      <td>34.7</td>\n",
       "    </tr>\n",
       "    <tr>\n",
       "      <th>3</th>\n",
       "      <td>3</td>\n",
       "      <td>0.03237</td>\n",
       "      <td>0.0</td>\n",
       "      <td>2.18</td>\n",
       "      <td>0.0</td>\n",
       "      <td>0.458</td>\n",
       "      <td>6.998</td>\n",
       "      <td>45.8</td>\n",
       "      <td>6.0622</td>\n",
       "      <td>3.0</td>\n",
       "      <td>222.0</td>\n",
       "      <td>18.7</td>\n",
       "      <td>2.94</td>\n",
       "      <td>33.4</td>\n",
       "    </tr>\n",
       "    <tr>\n",
       "      <th>4</th>\n",
       "      <td>4</td>\n",
       "      <td>0.06905</td>\n",
       "      <td>0.0</td>\n",
       "      <td>2.18</td>\n",
       "      <td>0.0</td>\n",
       "      <td>0.458</td>\n",
       "      <td>7.147</td>\n",
       "      <td>54.2</td>\n",
       "      <td>6.0622</td>\n",
       "      <td>3.0</td>\n",
       "      <td>222.0</td>\n",
       "      <td>18.7</td>\n",
       "      <td>5.33</td>\n",
       "      <td>36.2</td>\n",
       "    </tr>\n",
       "  </tbody>\n",
       "</table>\n",
       "</div>"
      ],
      "text/plain": [
       "   Unnamed: 0     CRIM    ZN  INDUS  CHAS    NOX     RM   AGE     DIS  RAD  \\\n",
       "0           0  0.00632  18.0   2.31   0.0  0.538  6.575  65.2  4.0900  1.0   \n",
       "1           1  0.02731   0.0   7.07   0.0  0.469  6.421  78.9  4.9671  2.0   \n",
       "2           2  0.02729   0.0   7.07   0.0  0.469  7.185  61.1  4.9671  2.0   \n",
       "3           3  0.03237   0.0   2.18   0.0  0.458  6.998  45.8  6.0622  3.0   \n",
       "4           4  0.06905   0.0   2.18   0.0  0.458  7.147  54.2  6.0622  3.0   \n",
       "\n",
       "     TAX  PTRATIO  LSTAT  MEDV  \n",
       "0  296.0     15.3   4.98  24.0  \n",
       "1  242.0     17.8   9.14  21.6  \n",
       "2  242.0     17.8   4.03  34.7  \n",
       "3  222.0     18.7   2.94  33.4  \n",
       "4  222.0     18.7   5.33  36.2  "
      ]
     },
     "execution_count": 3,
     "metadata": {},
     "output_type": "execute_result"
    }
   ],
   "source": [
    "df.head()"
   ]
  },
  {
   "cell_type": "code",
   "execution_count": 4,
   "id": "ae6a43c0-b137-4776-b3a9-97b938ce4b55",
   "metadata": {
    "tags": []
   },
   "outputs": [
    {
     "data": {
      "image/png": "[encoded data removed]",
      "text/plain": [
       "<Figure size 640x480 with 1 Axes>"
      ]
     },
     "metadata": {},
     "output_type": "display_data"
    }
   ],
   "source": [
    "ax = sns.boxplot(y='MEDV', data=df)\n",
    "plt.title(\"Median Value of Owner-Occupied homes in $1000's Box Plot\")\n",
    "plt.show()\n"
   ]
  },
  {
   "cell_type": "code",
   "execution_count": 5,
   "id": "64a09ba5-0d6e-4a42-b7f0-3f4bb270e696",
   "metadata": {
    "tags": []
   },
   "outputs": [
    {
     "data": {
      "image/png": "[encoded data removed]",
      "text/plain": [
       "<Figure size 500x500 with 1 Axes>"
      ]
     },
     "metadata": {},
     "output_type": "display_data"
    }
   ],
   "source": [
    "sns.catplot(x='CHAS', kind='count', data=df)\n",
    "plt.title(\"Bar plot/ Category plot for the Charles River variable\")\n",
    "plt.show()\n",
    "#1 represents the tract bounding the river, 0 represents this negation"
   ]
  },
  {
   "cell_type": "code",
   "execution_count": 6,
   "id": "6e91aa1b-04e8-480a-9aa1-1f35ba0862e8",
   "metadata": {
    "tags": []
   },
   "outputs": [],
   "source": [
    "df.loc[(df['AGE']<=35), 'age_group'] = '35 and younger'\n",
    "df.loc[(df['AGE']>35) & (df['AGE']<70), 'age_group'] = 'between 35 and 70'\n",
    "df.loc[(df['AGE']>=70), 'age_group'] = 'seventy_plus'      \n"
   ]
  },
  {
   "cell_type": "code",
   "execution_count": 7,
   "id": "0b903a74-4ee1-434f-aae6-a3154f6f1be5",
   "metadata": {
    "tags": []
   },
   "outputs": [
    {
     "data": {
      "image/png": "[encoded data removed]",
      "text/plain": [
       "<Figure size 640x480 with 1 Axes>"
      ]
     },
     "metadata": {},
     "output_type": "display_data"
    }
   ],
   "source": [
    "ax = sns.boxplot(x='MEDV', y='age_group', data=df)\n",
    "plt.title(\"Median Value for Age group\")\n",
    "plt.show()\n"
   ]
  },
  {
   "cell_type": "code",
   "execution_count": 8,
   "id": "2e75efee-09d3-4514-b07c-20eeba6dc2c9",
   "metadata": {
    "tags": []
   },
   "outputs": [
    {
     "data": {
      "image/png": "[encoded data removed]",
      "text/plain": [
       "<Figure size 640x480 with 1 Axes>"
      ]
     },
     "metadata": {},
     "output_type": "display_data"
    }
   ],
   "source": [
    "ax = plt.scatter(x='INDUS', y= 'NOX', data=df)\n",
    "plt.title(\"Nitrous Oxide Concentraitions and Non-Retail Business Acres per Town\")\n",
    "plt.show()"
   ]
  },
  {
   "cell_type": "code",
   "execution_count": 9,
   "id": "e65b171f-a917-45f7-8c59-d6fb37839d71",
   "metadata": {},
   "outputs": [
    {
     "data": {
      "text/plain": [
       "'Nitrous oxide and the proportion of non retail business acres per town appear to have a linear relationship, a positive correlation\\n'"
      ]
     },
     "execution_count": 9,
     "metadata": {},
     "output_type": "execute_result"
    }
   ],
   "source": [
    "\"\"\"Nitrous oxide and the proportion of non retail business acres per town appear to have a linear relationship, a positive correlation\n",
    "\"\"\""
   ]
  },
  {
   "cell_type": "code",
   "execution_count": 10,
   "id": "4cf4d5d7-c0f3-430a-aeb0-30d5b64e6a5b",
   "metadata": {
    "tags": []
   },
   "outputs": [
    {
     "data": {
      "image/png": "[encoded data removed]",
      "text/plain": [
       "<Figure size 640x480 with 1 Axes>"
      ]
     },
     "metadata": {},
     "output_type": "display_data"
    }
   ],
   "source": [
    "\n",
    "plt.hist(df['PTRATIO'])\n",
    "plt.title(\"Pupil to Teacher Ratio\")\n",
    "plt.ylabel(\"count\")\n",
    "plt.xlabel(\"ratio\")\n",
    "plt.show()"
   ]
  },
  {
   "cell_type": "markdown",
   "id": "3bc69172-6a2a-41bf-b581-cc540fc1c4ad",
   "metadata": {},
   "source": [
    "Is there a significant difference in median value of houses bounded by the Charles river or not? (T-test for independent samples)"
   ]
  },
  {
   "cell_type": "code",
   "execution_count": 11,
   "id": "922b8d40-62e2-49d2-9793-a0ea2b72b52e",
   "metadata": {},
   "outputs": [],
   "source": [
    "#alpha is set to 0.05 (for reference)\n",
    "a = 0.05"
   ]
  },
  {
   "cell_type": "code",
   "execution_count": 12,
   "id": "a6714c9d-770a-49e2-b34f-80a76c139d4b",
   "metadata": {},
   "outputs": [],
   "source": [
    "#H0: there is no difference between the variances\n",
    "#H1: there is a difference between the variances"
   ]
  },
  {
   "cell_type": "code",
   "execution_count": 13,
   "id": "7812baca-daef-4734-9fc5-c17445b6bf32",
   "metadata": {
    "tags": []
   },
   "outputs": [
    {
     "data": {
      "text/plain": [
       "LeveneResult(statistic=8.75190489604598, pvalue=0.003238119367639829)"
      ]
     },
     "execution_count": 13,
     "metadata": {},
     "output_type": "execute_result"
    }
   ],
   "source": [
    "#levene test to check for variance\n",
    "scipy.stats.levene(df[df['CHAS'] == 0]['MEDV'],\n",
    "                   df[df['CHAS'] == 1]['MEDV'], center='mean')\n"
   ]
  },
  {
   "cell_type": "code",
   "execution_count": 14,
   "id": "3ab87be6-ad76-4b2a-883a-c83780aeee67",
   "metadata": {},
   "outputs": [
    {
     "data": {
      "text/plain": [
       "'since the p value is less than 0.05 then we cannot assume equality of variance\\n'"
      ]
     },
     "execution_count": 14,
     "metadata": {},
     "output_type": "execute_result"
    }
   ],
   "source": [
    "\"\"\"since the p value is less than 0.05 then we cannot assume equality of variance\n",
    "\"\"\""
   ]
  },
  {
   "cell_type": "code",
   "execution_count": 15,
   "id": "2c15dd38-6de4-4391-82ab-8d29352ddd55",
   "metadata": {},
   "outputs": [],
   "source": [
    "#H0: There is no significant difference between the means of the median values of houses bounded by the Charles river\n",
    "#H1: There is significant difference between the means of the median values of houses bounded by the Charles river"
   ]
  },
  {
   "cell_type": "code",
   "execution_count": 16,
   "id": "01daa39e-1e04-4d4d-9d5f-46ea4418904d",
   "metadata": {
    "tags": []
   },
   "outputs": [
    {
     "data": {
      "text/plain": [
       "Ttest_indResult(statistic=-3.113291312794837, pvalue=0.003567170098137517)"
      ]
     },
     "execution_count": 16,
     "metadata": {},
     "output_type": "execute_result"
    }
   ],
   "source": [
    "#ttest for significance between the value of houses bounded by the Charles river and those not\n",
    "scipy.stats.ttest_ind(df[df['CHAS'] == 0]['MEDV'],\n",
    "                   df[df['CHAS'] == 1]['MEDV'], equal_var = False)"
   ]
  },
  {
   "cell_type": "code",
   "execution_count": 17,
   "id": "ddc0785a-4d60-4a30-ab00-ede8fd95059e",
   "metadata": {},
   "outputs": [
    {
     "data": {
      "text/plain": [
       "'as the p value is less than 0.05 we reject the null hypothesis as there is significant evidence to suggest that there is a statistical difference in \\nmedian values of houses bounded by the Charles river\\n'"
      ]
     },
     "execution_count": 17,
     "metadata": {},
     "output_type": "execute_result"
    }
   ],
   "source": [
    "\"\"\"as the p value is less than 0.05 we reject the null hypothesis as there is significant evidence to suggest that there is a statistical difference in \n",
    "median values of houses bounded by the Charles river\n",
    "\"\"\""
   ]
  },
  {
   "cell_type": "code",
   "execution_count": 18,
   "id": "af3adda1-df79-43cc-a857-fb239e35136d",
   "metadata": {
    "tags": []
   },
   "outputs": [],
   "source": [
    "#H0: there is no difference between the variances\n",
    "#H1: there is a difference between the variances"
   ]
  },
  {
   "cell_type": "code",
   "execution_count": 19,
   "id": "45820041-a6b9-4a9e-a155-c3f67e4b65c8",
   "metadata": {
    "tags": []
   },
   "outputs": [
    {
     "data": {
      "text/plain": [
       "LeveneResult(statistic=2.7806200293748304, pvalue=0.06295337343259205)"
      ]
     },
     "execution_count": 19,
     "metadata": {},
     "output_type": "execute_result"
    }
   ],
   "source": [
    "#performing another levene test for variance before the ANOVA\n",
    "scipy.stats.levene(df[df['age_group'] == '35 and younger']['MEDV'],\n",
    "                   df[df['age_group'] == 'between 35 and 70']['MEDV'], \n",
    "                   df[df['age_group'] == 'seventy_plus']['MEDV'], \n",
    "                   center='mean')"
   ]
  },
  {
   "cell_type": "code",
   "execution_count": 20,
   "id": "f3b04b7d-352b-45de-b7fa-58037a0dbc8b",
   "metadata": {},
   "outputs": [
    {
     "data": {
      "text/plain": [
       "'since the p value is greater than 0.05 we fail to reject the null hypothesis\\nas there is significant evidence to suggest that the variances are equal, \\nthis may effect the outcome of the ANOVA\\n'"
      ]
     },
     "execution_count": 20,
     "metadata": {},
     "output_type": "execute_result"
    }
   ],
   "source": [
    "\"\"\"since the p value is greater than 0.05 we fail to reject the null hypothesis\n",
    "as there is significant evidence to suggest that the variances are equal, \n",
    "this may effect the outcome of the ANOVA\n",
    "\"\"\""
   ]
  },
  {
   "cell_type": "code",
   "execution_count": 21,
   "id": "44be42e9-2e9b-487d-b8f4-c050c438b23a",
   "metadata": {
    "tags": []
   },
   "outputs": [],
   "source": [
    "thirtyfive_lower = df[df['age_group'] == '35 and younger']['MEDV']\n",
    "thirtyfive_to_seventy = df[df['age_group'] == 'between 35 and 70']['MEDV']\n",
    "seventy_plus = df[df['age_group'] == 'seventy_plus']['MEDV']\n"
   ]
  },
  {
   "cell_type": "code",
   "execution_count": 22,
   "id": "8347c799-b131-4020-93ec-60d5b13de328",
   "metadata": {},
   "outputs": [],
   "source": [
    "#H0: The means of the median value of houses per proportion of owner occupied units built prior to 1940 do not differ\n",
    "#H1: The means of the median value of houses per proportion of owner occupied units built prior to 1940 do differ "
   ]
  },
  {
   "cell_type": "code",
   "execution_count": 23,
   "id": "2443d485-97a9-48e9-9469-0d83810079e6",
   "metadata": {
    "tags": []
   },
   "outputs": [
    {
     "name": "stdout",
     "output_type": "stream",
     "text": [
      "F_Statistic: 36.40764999196599, P-Value: 1.7105011022702984e-15\n"
     ]
    }
   ],
   "source": [
    "f_statistic, p_value = scipy.stats.f_oneway(thirtyfive_lower, thirtyfive_to_seventy, seventy_plus)\n",
    "print(\"F_Statistic: {0}, P-Value: {1}\".format(f_statistic,p_value))"
   ]
  },
  {
   "cell_type": "code",
   "execution_count": 24,
   "id": "af412d37-944f-4716-9b61-fd7736f2c166",
   "metadata": {},
   "outputs": [
    {
     "data": {
      "text/plain": [
       "'since the p value is smaller than 0.05 we reject the null hypothesis, \\nas there is significant evidence to suggest statistical significance,\\nas at least one of the means differ\\n'"
      ]
     },
     "execution_count": 24,
     "metadata": {},
     "output_type": "execute_result"
    }
   ],
   "source": [
    "\"\"\"since the p value is smaller than 0.05 we reject the null hypothesis, \n",
    "as there is significant evidence to suggest statistical significance,\n",
    "as at least one of the means differ\n",
    "\"\"\""
   ]
  },
  {
   "cell_type": "code",
   "execution_count": 25,
   "id": "775f8c30-6248-4271-93a8-3b8c9aa313f1",
   "metadata": {
    "tags": []
   },
   "outputs": [
    {
     "data": {
      "text/plain": [
       "PearsonRResult(statistic=0.7636514469209149, pvalue=7.913361061242812e-98)"
      ]
     },
     "execution_count": 25,
     "metadata": {},
     "output_type": "execute_result"
    }
   ],
   "source": [
    "scipy.stats.pearsonr(df['NOX'], df['INDUS'])"
   ]
  },
  {
   "cell_type": "code",
   "execution_count": 26,
   "id": "06be1f20-5688-4f5a-a9a5-a89fd872f49c",
   "metadata": {},
   "outputs": [
    {
     "data": {
      "text/plain": [
       "'We have a strong positive correlation coefficient of 0.76 \\nwith a p value less than 0.05 we reject the null hypothesis, concluding there is an \\nexistence of a relationship between the two variables\\n'"
      ]
     },
     "execution_count": 26,
     "metadata": {},
     "output_type": "execute_result"
    }
   ],
   "source": [
    "\"\"\"We have a strong positive correlation coefficient of 0.76 \n",
    "with a p value less than 0.05 we reject the null hypothesis, concluding there is an \n",
    "existence of a relationship between the two variables\n",
    "\"\"\""
   ]
  },
  {
   "cell_type": "code",
   "execution_count": 27,
   "id": "f78f4e86-1e25-4bbd-ae49-652e07589d83",
   "metadata": {
    "tags": []
   },
   "outputs": [
    {
     "data": {
      "text/html": [
       "<table class=\"simpletable\">\n",
       "<caption>OLS Regression Results</caption>\n",
       "<tr>\n",
       "  <th>Dep. Variable:</th>          <td>MEDV</td>       <th>  R-squared:         </th> <td>   0.062</td>\n",
       "</tr>\n",
       "<tr>\n",
       "  <th>Model:</th>                   <td>OLS</td>       <th>  Adj. R-squared:    </th> <td>   0.061</td>\n",
       "</tr>\n",
       "<tr>\n",
       "  <th>Method:</th>             <td>Least Squares</td>  <th>  F-statistic:       </th> <td>   33.58</td>\n",
       "</tr>\n",
       "<tr>\n",
       "  <th>Date:</th>             <td>Wed, 02 Aug 2023</td> <th>  Prob (F-statistic):</th> <td>1.21e-08</td>\n",
       "</tr>\n",
       "<tr>\n",
       "  <th>Time:</th>                 <td>11:21:11</td>     <th>  Log-Likelihood:    </th> <td> -1823.9</td>\n",
       "</tr>\n",
       "<tr>\n",
       "  <th>No. Observations:</th>      <td>   506</td>      <th>  AIC:               </th> <td>   3652.</td>\n",
       "</tr>\n",
       "<tr>\n",
       "  <th>Df Residuals:</th>          <td>   504</td>      <th>  BIC:               </th> <td>   3660.</td>\n",
       "</tr>\n",
       "<tr>\n",
       "  <th>Df Model:</th>              <td>     1</td>      <th>                     </th>     <td> </td>   \n",
       "</tr>\n",
       "<tr>\n",
       "  <th>Covariance Type:</th>      <td>nonrobust</td>    <th>                     </th>     <td> </td>   \n",
       "</tr>\n",
       "</table>\n",
       "<table class=\"simpletable\">\n",
       "<tr>\n",
       "    <td></td>       <th>coef</th>     <th>std err</th>      <th>t</th>      <th>P>|t|</th>  <th>[0.025</th>    <th>0.975]</th>  \n",
       "</tr>\n",
       "<tr>\n",
       "  <th>const</th> <td>   18.3901</td> <td>    0.817</td> <td>   22.499</td> <td> 0.000</td> <td>   16.784</td> <td>   19.996</td>\n",
       "</tr>\n",
       "<tr>\n",
       "  <th>DIS</th>   <td>    1.0916</td> <td>    0.188</td> <td>    5.795</td> <td> 0.000</td> <td>    0.722</td> <td>    1.462</td>\n",
       "</tr>\n",
       "</table>\n",
       "<table class=\"simpletable\">\n",
       "<tr>\n",
       "  <th>Omnibus:</th>       <td>139.779</td> <th>  Durbin-Watson:     </th> <td>   0.570</td>\n",
       "</tr>\n",
       "<tr>\n",
       "  <th>Prob(Omnibus):</th> <td> 0.000</td>  <th>  Jarque-Bera (JB):  </th> <td> 305.104</td>\n",
       "</tr>\n",
       "<tr>\n",
       "  <th>Skew:</th>          <td> 1.466</td>  <th>  Prob(JB):          </th> <td>5.59e-67</td>\n",
       "</tr>\n",
       "<tr>\n",
       "  <th>Kurtosis:</th>      <td> 5.424</td>  <th>  Cond. No.          </th> <td>    9.32</td>\n",
       "</tr>\n",
       "</table><br/><br/>Notes:<br/>[1] Standard Errors assume that the covariance matrix of the errors is correctly specified."
      ],
      "text/plain": [
       "<class 'statsmodels.iolib.summary.Summary'>\n",
       "\"\"\"\n",
       "                            OLS Regression Results                            \n",
       "==============================================================================\n",
       "Dep. Variable:                   MEDV   R-squared:                       0.062\n",
       "Model:                            OLS   Adj. R-squared:                  0.061\n",
       "Method:                 Least Squares   F-statistic:                     33.58\n",
       "Date:                Wed, 02 Aug 2023   Prob (F-statistic):           1.21e-08\n",
       "Time:                        11:21:11   Log-Likelihood:                -1823.9\n",
       "No. Observations:                 506   AIC:                             3652.\n",
       "Df Residuals:                     504   BIC:                             3660.\n",
       "Df Model:                           1                                         \n",
       "Covariance Type:            nonrobust                                         \n",
       "==============================================================================\n",
       "                 coef    std err          t      P>|t|      [0.025      0.975]\n",
       "------------------------------------------------------------------------------\n",
       "const         18.3901      0.817     22.499      0.000      16.784      19.996\n",
       "DIS            1.0916      0.188      5.795      0.000       0.722       1.462\n",
       "==============================================================================\n",
       "Omnibus:                      139.779   Durbin-Watson:                   0.570\n",
       "Prob(Omnibus):                  0.000   Jarque-Bera (JB):              305.104\n",
       "Skew:                           1.466   Prob(JB):                     5.59e-67\n",
       "Kurtosis:                       5.424   Cond. No.                         9.32\n",
       "==============================================================================\n",
       "\n",
       "Notes:\n",
       "[1] Standard Errors assume that the covariance matrix of the errors is correctly specified.\n",
       "\"\"\""
      ]
     },
     "execution_count": 27,
     "metadata": {},
     "output_type": "execute_result"
    }
   ],
   "source": [
    "import statsmodels.api as sm\n",
    "#independant variable: the distance to the five boson employment centres\n",
    "X = df['DIS']\n",
    "#dependant variable: the median value of owner occupied homes\n",
    "y= df['MEDV']\n",
    "# adding an intercept (beta_0) \n",
    "X = sm.add_constant(X) \n",
    "\n",
    "model = sm.OLS(y, X).fit()\n",
    "predictions = model.predict(X)\n",
    "\n",
    "model.summary()"
   ]
  },
  {
   "cell_type": "code",
   "execution_count": 28,
   "id": "73c653db-79be-43fb-9aec-a858cc8cc0d0",
   "metadata": {
    "tags": []
   },
   "outputs": [
    {
     "data": {
      "text/plain": [
       "'\\nThe coefficient DIS of 1.0916 indicates that an additional weighted distance \\nto the employment centers increases the median value (of owner occupied homes) by 1.0916\\n\\nAlso worth noting as the p value is less than 0.05 we reject the null hypothesis as there\\nis evidence that there is a difference in median housing value based on \\ndistance to the Boston employment centres\\n'"
      ]
     },
     "execution_count": 28,
     "metadata": {},
     "output_type": "execute_result"
    }
   ],
   "source": [
    "\"\"\"\n",
    "The coefficient DIS of 1.0916 indicates that an additional weighted distance \n",
    "to the employment centers increases the median value (of owner occupied homes) by 1.0916\n",
    "\n",
    "Also worth noting as the p value is less than 0.05 we reject the null hypothesis as there\n",
    "is evidence that there is a difference in median housing value based on \n",
    "distance to the Boston employment centres\n",
    "\"\"\""
   ]
  }
 ],
 "metadata": {
  "kernelspec": {
   "display_name": "Python 3 (ipykernel)",
   "language": "python",
   "name": "python3"
  },
  "language_info": {
   "codemirror_mode": {
    "name": "ipython",
    "version": 3
   },
   "file_extension": ".py",
   "mimetype": "text/x-python",
   "name": "python",
   "nbconvert_exporter": "python",
   "pygments_lexer": "ipython3",
   "version": "3.11.3"
  }
 },
 "nbformat": 4,
 "nbformat_minor": 5
}
